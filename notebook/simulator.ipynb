{
 "cells": [
  {
   "cell_type": "code",
   "execution_count": 17,
   "metadata": {},
   "outputs": [],
   "source": [
    "from random import sample "
   ]
  },
  {
   "cell_type": "code",
   "execution_count": 15,
   "metadata": {},
   "outputs": [],
   "source": [
    "##A simulation environment for TFT_box, providing same inputs as player\n",
    "\n",
    "##A: Generate shop of characters (tier 1)\n",
    "\n",
    "##Simplest:\n",
    "\n",
    "###Store as list of champ/price and draw values\n",
    "####V2 >> User properties JSON\n",
    "shop = [\n",
    "    {\n",
    "\t'name':'Caitlyn',\n",
    "\t'price':1,\n",
    "\t'properties':{\n",
    "\t\t'class':'Sniper',\n",
    "\t\t'trait':'Chrono'\n",
    "                }\n",
    "},\n",
    "    {\n",
    "\t'name':'Leona',\n",
    "\t'price':1,\n",
    "\t'properties':{\n",
    "\t\t'class':'Vanguard',\n",
    "\t\t'trait':'Cybernetic'\n",
    "                }\n",
    "},\n",
    "    {\n",
    "\t'name':'Twisted Fate',\n",
    "\t'price':1,\n",
    "\t'properties':{\n",
    "\t\t'class':'Sorcerer',\n",
    "\t\t'trait':'Chrono'\n",
    "                }\n",
    "},\n",
    "    {\n",
    "\t'name':'Malphite',\n",
    "\t'price':1,\n",
    "\t'properties':{\n",
    "\t\t'class':'Brawler',\n",
    "\t\t'trait':'Rebel'\n",
    "                }\n",
    "},\n",
    "    {\n",
    "\t'name':'Poppy',\n",
    "\t'price':1,\n",
    "\t'properties':{\n",
    "\t\t'class':'Vanguard',\n",
    "\t\t'trait':'Star Guardian'\n",
    "                }\n",
    "},\n",
    "    {\n",
    "\t'name':'Darius',\n",
    "\t'price':2,\n",
    "\t'properties':{\n",
    "\t\t'class':'Mana Reaver',\n",
    "\t\t'trait':'Space Pirates'\n",
    "                }\n",
    "},\n",
    "    {\n",
    "\t'name':'Shen',\n",
    "\t'price':2,\n",
    "\t'properties':{\n",
    "\t\t'class':'Bladesmaster',\n",
    "\t\t'trait':'Chrono'\n",
    "                }\n",
    "},\n",
    "    {\n",
    "\t'name':'Xayah',\n",
    "\t'price':1,\n",
    "\t'properties':{\n",
    "\t\t'class':'Bladesmaster',\n",
    "\t\t'trait':'Chrono'\n",
    "                }\n",
    "}\n",
    "]"
   ]
  },
  {
   "cell_type": "code",
   "execution_count": 16,
   "metadata": {},
   "outputs": [
    {
     "data": {
      "text/plain": [
       "{'name': 'Caitlyn',\n",
       " 'price': 1,\n",
       " 'properties': {'class': 'Sniper', 'trait': 'Chrono'}}"
      ]
     },
     "execution_count": 16,
     "metadata": {},
     "output_type": "execute_result"
    }
   ],
   "source": [
    "shop[0]"
   ]
  },
  {
   "cell_type": "code",
   "execution_count": 25,
   "metadata": {},
   "outputs": [],
   "source": [
    "##B: Draw 5, select off income increase\n",
    "page = sample(shop, 5)"
   ]
  },
  {
   "cell_type": "code",
   "execution_count": null,
   "metadata": {},
   "outputs": [],
   "source": [
    "for i in range(0,10,1):\n",
    "    page = sample(shop, 5)"
   ]
  },
  {
   "cell_type": "code",
   "execution_count": 30,
   "metadata": {},
   "outputs": [],
   "source": [
    "##Current user state\n",
    "state = {\n",
    "    'pocket':3,\n",
    "    'health':100\n",
    "        }"
   ]
  },
  {
   "cell_type": "code",
   "execution_count": 32,
   "metadata": {},
   "outputs": [
    {
     "data": {
      "text/plain": [
       "[{'name': 'Darius',\n",
       "  'price': 2,\n",
       "  'properties': {'class': 'Mana Reaver', 'trait': 'Space Pirates'}},\n",
       " {'name': 'Poppy',\n",
       "  'price': 1,\n",
       "  'properties': {'class': 'Vanguard', 'trait': 'Star Guardian'}},\n",
       " {'name': 'Caitlyn',\n",
       "  'price': 1,\n",
       "  'properties': {'class': 'Sniper', 'trait': 'Chrono'}},\n",
       " {'name': 'Twisted Fate',\n",
       "  'price': 1,\n",
       "  'properties': {'class': 'Sorcerer', 'trait': 'Chrono'}},\n",
       " {'name': 'Leona',\n",
       "  'price': 1,\n",
       "  'properties': {'class': 'Vanguard', 'trait': 'Cybernetic'}}]"
      ]
     },
     "execution_count": 32,
     "metadata": {},
     "output_type": "execute_result"
    }
   ],
   "source": [
    "##Case 0: Baseline decision making\n",
    "page\n",
    "\n",
    "##Buy from left to right"
   ]
  },
  {
   "cell_type": "code",
   "execution_count": null,
   "metadata": {},
   "outputs": [],
   "source": [
    "##Case 1: give each component weight and train NN\n"
   ]
  },
  {
   "cell_type": "code",
   "execution_count": null,
   "metadata": {},
   "outputs": [],
   "source": []
  }
 ],
 "metadata": {
  "kernelspec": {
   "display_name": "Python [conda env:tft_bot] *",
   "language": "python",
   "name": "conda-env-tft_bot-py"
  },
  "language_info": {
   "codemirror_mode": {
    "name": "ipython",
    "version": 3
   },
   "file_extension": ".py",
   "mimetype": "text/x-python",
   "name": "python",
   "nbconvert_exporter": "python",
   "pygments_lexer": "ipython3",
   "version": "3.8.2"
  }
 },
 "nbformat": 4,
 "nbformat_minor": 4
}
